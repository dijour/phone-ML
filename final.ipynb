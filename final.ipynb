{
 "cells": [
  {
   "cell_type": "markdown",
   "metadata": {},
   "source": [
    "# Social Media Activity Recognition\n",
    "The goal is to develop a machine learning pipeline to recognize different social media usage using an iPhone’s motion sensors (accelerometer, gyroscope, etc).\n",
    "\n",
    "#### Activities\n",
    "1. Instagram\n",
    "2. Tinder\n",
    "3. Facebook\n",
    "4. LinkedIn\n",
    "5. Notetaking/texting"
   ]
  },
  {
   "cell_type": "markdown",
   "metadata": {},
   "source": [
    "### Importing libraries"
   ]
  },
  {
   "cell_type": "code",
   "execution_count": 2,
   "metadata": {},
   "outputs": [],
   "source": [
    "# essentials\n",
    "import numpy as np # used for handling numbers\n",
    "import scipy as sc\n",
    "import pandas as pd # used for handling the dataset\n",
    "import os # to get csv files of data\n",
    "\n",
    "from sklearn.model_selection import KFold, GroupKFold, cross_val_score, train_test_split\n",
    "from sklearn.impute import SimpleImputer # used for handling missing data\n",
    "from sklearn.preprocessing import LabelEncoder, OneHotEncoder # used for encoding categorical data\n",
    "from sklearn.preprocessing import StandardScaler # used for feature scaling\n",
    "\n",
    "# classifiers \n",
    "from sklearn.ensemble import RandomForestClassifier\n",
    "from sklearn.svm import SVC\n",
    "from sklearn.neural_network import MLPClassifier\n",
    "from sklearn.linear_model import LogisticRegression\n",
    "from sklearn.neighbors import KNeighborsClassifier\n",
    "from sklearn.discriminant_analysis import LinearDiscriminantAnalysis\n",
    "from sklearn.naive_bayes import GaussianNB\n",
    "from sklearn.tree import DecisionTreeClassifier\n",
    "\n",
    "# neural networks\n",
    "import tensorflow as t # for RNN\n",
    "\n",
    "# preprocessing\n",
    "from sklearn.preprocessing import *\n",
    "from sklearn.preprocessing import Normalizer\n",
    "\n",
    "# analysis\n",
    "from sklearn.metrics import confusion_matrix\n",
    "from sklearn.utils.multiclass import unique_labels\n",
    "\n",
    "# plotting\n",
    "import seaborn as sns\n",
    "import matplotlib.pyplot as plt\n",
    "from matplotlib.colors import ListedColormap\n",
    "%matplotlib inline"
   ]
  },
  {
   "cell_type": "markdown",
   "metadata": {},
   "source": [
    "## Loads the sensor data from numpy files.\n",
    "### First, manually filter each CSV to remove any rows where Light > 100, to ensure that the data is only from when phone was in pocket."
   ]
  },
  {
   "cell_type": "code",
   "execution_count": 134,
   "metadata": {},
   "outputs": [
    {
     "name": "stdout",
     "output_type": "stream",
     "text": [
      "[0.60886482]\n"
     ]
    }
   ],
   "source": [
    "def load_data(base_folder, activity, convert_to_numpy=True):\n",
    "    out = []\n",
    "    file_names = os.listdir('%s/%s' %(base_folder, activity))\n",
    "    for file in file_names:\n",
    "        if (file == '.DS_Store'):\n",
    "            continue\n",
    "        data = pd.read_csv(('%s/%s/'+file) % (base_folder, activity),\n",
    "                            usecols=[\n",
    "                                    'loggingTime(txt)',\n",
    "                                    'loggingSample(N)', # this is easier to filter beginning/end frames\n",
    "                                    'locationLatitude(WGS84)',\n",
    "                                    'locationLongitude(WGS84)',\n",
    "                                    'locationAltitude(m)',\n",
    "                                    'locationSpeed(m/s)',\n",
    "#                                     'locationCourse(¬∞)',\n",
    "#                                     'locationHeadingX(¬µT)',\n",
    "#                                     'locationHeadingY(¬µT)',\n",
    "#                                     'locationHeadingZ(¬µT)',\n",
    "#                                     'locationTrueHeading(¬∞)',\n",
    "#                                     'locationMagneticHeading(¬∞)',\n",
    "                                    'accelerometerAccelerationX(G)',\n",
    "                                    'accelerometerAccelerationY(G)',\n",
    "                                    'accelerometerAccelerationZ(G)',\n",
    "                                    'gyroRotationX(rad/s)',\n",
    "                                    'gyroRotationY(rad/s)',\n",
    "                                    'gyroRotationZ(rad/s)',\n",
    "#                                     'magnetometerX(¬µT)',\n",
    "#                                     'magnetometerY(¬µT)',\n",
    "#                                     'magnetometerZ(¬µT)',\n",
    "                                    'motionYaw(rad)',\n",
    "                                    'motionRoll(rad)',\n",
    "                                    'motionPitch(rad)',\n",
    "                                    'motionRotationRateX(rad/s)',\n",
    "                                    'motionRotationRateY(rad/s)',\n",
    "                                    'motionRotationRateZ(rad/s)',\n",
    "                                    'motionUserAccelerationX(G)',\n",
    "                                    'motionUserAccelerationY(G)',\n",
    "                                    'motionUserAccelerationZ(G)',\n",
    "                                    'motionQuaternionX(R)',\n",
    "                                    'motionQuaternionY(R)',\n",
    "                                    'motionQuaternionZ(R)',\n",
    "                                    'motionQuaternionW(R)',\n",
    "                                    'motionGravityX(G)',\n",
    "                                    'motionGravityY(G)',\n",
    "                                    'motionGravityZ(G)',\n",
    "#                                     'motionMagneticFieldX(¬µT)',\n",
    "#                                     'motionMagneticFieldY(¬µT)',\n",
    "#                                     'motionMagneticFieldZ(¬µT)',\n",
    "                                    'altimeterRelativeAltitude(m)',\n",
    "                                    'altimeterPressure(kPa)',\n",
    "                                    'deviceOrientation(Z)',\n",
    "                                    'avAudioRecorderPeakPower(dB)',\n",
    "                                    'avAudioRecorderAveragePower(dB)']\n",
    "                          )\n",
    "        data = filter_input(data)\n",
    "        \n",
    "        if convert_to_numpy:\n",
    "            out.append(data.to_numpy())\n",
    "        else:\n",
    "            out.append(data)\n",
    "    return out"
   ]
  },
  {
   "cell_type": "markdown",
   "metadata": {},
   "source": [
    "### Pre-processing"
   ]
  },
  {
   "cell_type": "code",
   "execution_count": 3,
   "metadata": {},
   "outputs": [],
   "source": [
    "# This particular cell of code was taken from:\n",
    "# https://github.com/KChen89/Accelerometer-Filtering/blob/master/acc.py\n",
    "#\n",
    "# This does median filtering to reduce noise for acc. and gyro data\n",
    "# Ignore this unless u want to understand implementation of plotting commented out in the next cell\n",
    "import math\n",
    "from scipy.fftpack import fft\n",
    "from scipy import signal\n",
    "from mpl_toolkits.mplot3d import Axes3D\n",
    "\n",
    "# creates a median filter on data\n",
    "def median_filter(data, f_size):\n",
    "    lgth, num_signal=data.shape\n",
    "    f_data=np.zeros([lgth, num_signal])\n",
    "    \n",
    "    for i in range(num_signal):\n",
    "        f_data[:,i]=signal.medfilt(data[:,i], f_size)\n",
    "    return f_data\n",
    "\n",
    "# creates a frequency filter on data\n",
    "def freq_filter(data, f_size, cutoff):\n",
    "    lgth, num_signal=data.shape\n",
    "    f_data=np.zeros([lgth, num_signal])\n",
    "    lpf=signal.firwin(f_size, cutoff, window='hamming')\n",
    "    for i in range(num_signal):\n",
    "        f_data[:,i]=signal.convolve(data[:,i], lpf, mode='same')\n",
    "    return f_data\n",
    "\n",
    "# creates a fast fourier transform plot on data\n",
    "def fft_plot(data, fs, title):\n",
    "    lgth, num_signal=data.shape\n",
    "    fqy=np.zeros([lgth,num_signal])\n",
    "    fqy[:,0]=np.abs(fft(data[:,0]))\n",
    "    fqy[:,1]=np.abs(fft(data[:,1]))\n",
    "    fqy[:,2]=np.abs(fft(data[:,2]))\n",
    "    index=np.arange(int(lgth/2))/(int(lgth/2)/(fs/2))\n",
    "    \n",
    "    fig, ax=plt.subplots()\n",
    "    labels=['x','y','z']\n",
    "    color_map=['r', 'g', 'b']\n",
    "    for i in range(3):\n",
    "        ax.plot(index, fqy[0:int(lgth/2),i], color_map[i], label=labels[i])\n",
    "    ax.set_xlim([0, fs/2])\n",
    "    ax.set_xlabel('Hz')\n",
    "    ax.set_title('Frequency spectrum: '+title) \n",
    "    ax.legend()\n",
    "\n",
    "# plots lines! Wooo\n",
    "def plot_lines(data, fs, title):\n",
    "    num_rows, num_cols=data.shape\n",
    "    if num_cols!=3:\n",
    "        raise ValueError('Not 3D data')\n",
    "        \n",
    "    fig, ax=plt.subplots()\n",
    "    labels=['x','y','z']\n",
    "    color_map=['r', 'g', 'b']\n",
    "    index=np.arange(num_rows)/fs\n",
    "    \n",
    "    for i in range(num_cols):\n",
    "        ax.plot(index, data[:,i], color_map[i], label=labels[i])\n",
    "    ax.set_xlim([0,num_rows/fs])\n",
    "    ax.set_xlabel('Time [sec]')\n",
    "    ax.set_title('Time domain: '+title)\n",
    "    ax.legend()\n",
    "\n",
    "# creates the 3D plot of our accelerometer/gyroscope data\n",
    "def plot3D(data, title):\n",
    "    fig=plt.figure()\n",
    "    ax=fig.add_subplot(111, projection='3d')\n",
    "    ax.plot(xs=data[:,0], ys=data[:,1], zs=data[:,2], zdir='z')\n",
    "    ax.set_title(title)"
   ]
  },
  {
   "cell_type": "code",
   "execution_count": 4,
   "metadata": {},
   "outputs": [],
   "source": [
    "# filters accelerometer or gyroscope data\n",
    "cutoff=10\n",
    "fs=512\n",
    "def filter_sensor(data, sensor_type):\n",
    "    if sensor_type == \"gyroscope\":\n",
    "        sensor_data = data.iloc[:,9:12].to_numpy()\n",
    "    else:\n",
    "        sensor_data = data.iloc[:,6:9].to_numpy()\n",
    "    \n",
    "#     median_data=median_filter(sensor_data, 155)\n",
    "    lpf_data=freq_filter(sensor_data, 155, cutoff/fs)\n",
    "#     comb_data=freq_filter(median_data, 155, cutoff/fs)\n",
    "\n",
    "    if sensor_type == \"gyroscope\":\n",
    "        data.loc[:,'gyroRotationX(rad/s)'] = lpf_data[:,0]\n",
    "        data.loc[:,'gyroRotationY(rad/s)'] = lpf_data[:,1]\n",
    "        data.loc[:,'gyroRotationZ(rad/s)'] = lpf_data[:,2]\n",
    "    else:\n",
    "        data.loc[:,'accelerometerAccelerationX(G)'] = lpf_data[:,0]\n",
    "        data.loc[:,'accelerometerAccelerationY(G)'] = lpf_data[:,1]\n",
    "        data.loc[:,'accelerometerAccelerationZ(G)'] = lpf_data[:,2]\n",
    "    return data"
   ]
  },
  {
   "cell_type": "code",
   "execution_count": 5,
   "metadata": {},
   "outputs": [],
   "source": [
    "# Delete the first 2 seconds (60 rows), and last 1 second (30 rows)\n",
    "def filter_input(data):\n",
    "    data = data.iloc[60:-60,]\n",
    "    data = filter_sensor(data, \"accelerometer\")\n",
    "    data = filter_sensor(data, \"gyroscope\")\n",
    "    return data"
   ]
  },
  {
   "cell_type": "markdown",
   "metadata": {},
   "source": [
    "Actually load the data"
   ]
  },
  {
   "cell_type": "code",
   "execution_count": null,
   "metadata": {},
   "outputs": [],
   "source": [
    "# Load the data for each class\n",
    "X_tinder = load_data(\"data\", \"tinder\")\n",
    "X_instagram = load_data(\"data\", \"instagram\")\n",
    "X_notes = load_data(\"data\", \"notes\")\n",
    "X_facebook = load_data(\"data\", \"facebook\")\n",
    "X_linkedin = load_data(\"data\", \"linkedin\")\n",
    "\n",
    "# Assigning groundtruth conditions to each class\n",
    "Y_tinder = [0] * len(X_tinder) \n",
    "Y_instagram = [1] * len(X_instagram)\n",
    "Y_notes = [2] * len(X_notes)\n",
    "Y_facebook = [3] * len(X_facebook)\n",
    "Y_linkedin = [4] * len(X_linkedin)\n",
    "\n",
    "X = np.concatenate((X_tinder, X_instagram, X_notes, X_facebook, X_linkedin)) # insert standing when done \n",
    "Y = np.concatenate((Y_tinder, Y_instagram, Y_notes, Y_facebook, Y_linkedin)) # insert standing when done\n",
    "print(\"Total number of X samples: \" + str(len(X)))\n",
    "print(\"Total number of Y samples: \" + str(len(Y)))"
   ]
  },
  {
   "cell_type": "markdown",
   "metadata": {},
   "source": [
    "## Featurization"
   ]
  },
  {
   "cell_type": "code",
   "execution_count": 132,
   "metadata": {},
   "outputs": [
    {
     "name": "stdout",
     "output_type": "stream",
     "text": [
      "[4.05138816]\n",
      "(5, 4, 1)\n"
     ]
    }
   ],
   "source": [
    "# # Featurize each subject's gaze trajectory in the file\n",
    "# # This method is run once for each video file for each condition\n",
    "\n",
    "# def featurize_input(X, Y, window):\n",
    "#     out = []\n",
    "#     # Where i is each subject in the file\n",
    "#     for i in range(len(X)):\n",
    "#         X_cord = X[i]\n",
    "#         Y_cord = Y[i]\n",
    "#         fv = []\n",
    "            \n",
    "#         if window == True:\n",
    "#             f,t,pxx = signal.spectrogram(X_cord, fs=16000, nperseg=128, noverlap=64)\n",
    "#             arrs = [\n",
    "#                 pxx[:, 0:923],\n",
    "#                 pxx[:, 924:1847],\n",
    "#                 pxx[:, 1848:2770],\n",
    "#                 pxx[:, 2771:3693],\n",
    "#                 pxx[:, 3694:4616],\n",
    "#                 pxx[:, 4617:5539],\n",
    "#                 pxx[:, 5540:6462],\n",
    "#                 pxx[:, 6463:7386]    \n",
    "#             ]\n",
    "\n",
    "#             for arr in arrs:\n",
    "#                 fv.append(np.max(arr))\n",
    "#                 fv.append(np.min(arr))\n",
    "#                 fv.append(np.std(arr))\n",
    "#                 out.append(fv)\n",
    "#         else:\n",
    "#             fv.append(np.std(X_cord[['ACCELEROMETER Y (m/s¬≤)']]).to_numpy())\n",
    "#             fv.append(np.std(X_cord[['ACCELEROMETER Z (m/s¬≤)']]).to_numpy())\n",
    "#             out.append(fv)\n",
    "    \n",
    "#     out = np.array(out)\n",
    "#     print(out.shape)\n",
    "#     return out\n",
    "\n",
    "# # featurizedWindowedData = featurize_input(data, categories, True)\n",
    "# featurizedData = featurize_input(data, categories, False)\n",
    "\n",
    "# def bin_input(X, Y, window):\n",
    "#     out = []\n",
    "#     # Where i is each recording\n",
    "#     for i in range(len(X)):\n",
    "#         X_cord = X[i]\n",
    "#         Y_cord = Y[i]\n",
    "            \n",
    "#         if window == True:\n",
    "#             f,t,pxx = signal.spectrogram(X_cord, fs=16000, nperseg=128, noverlap=64)\n",
    "#             arrs = [\n",
    "#                 pxx[:, 0:923],\n",
    "#                 pxx[:, 924:1847],\n",
    "#                 pxx[:, 1848:2770],\n",
    "#                 pxx[:, 2771:3693],\n",
    "#                 pxx[:, 3694:4616],\n",
    "#                 pxx[:, 4617:5539],\n",
    "#                 pxx[:, 5540:6462],\n",
    "#                 pxx[:, 6463:7386]    \n",
    "#             ]\n",
    "    \n",
    "#             for arr in arrs:\n",
    "#                 binned = cv2.resize(arr[:,:],(num_time_bins,num_freq_bins))\n",
    "#                 out.append(binned.flatten())\n",
    "\n",
    "#         else:\n",
    "#             f,t,pxx = signal.spectrogram(X_cord, fs=16000, nperseg=1024, noverlap=512)\n",
    "            \n",
    "#             binned = cv2.resize(pxx[:,:],(num_time_bins,num_freq_bins))\n",
    "\n",
    "#             out.append(binned.flatten())\n",
    "    \n",
    "#     out = np.array(out)\n",
    "#     print(out.shape)\n",
    "#     return out\n",
    "\n",
    "# # binnedWindowed = bin_input(data, categories, True)\n",
    "# # binnedUnwindowed = bin_input(data, categories, False)"
   ]
  },
  {
   "cell_type": "code",
   "execution_count": null,
   "metadata": {},
   "outputs": [],
   "source": [
    "def calc_sensor_norm(sensor_x, sensor_y, sensor_z):\n",
    "    sensor_total = []\n",
    "    for i in range(len(sensor_x)):\n",
    "        sensor_total.append((sensor_x[i]**2 + sensor_y[i]**2 + sensor_z[i]**2)**5)\n",
    "    return sensor_total\n",
    "\n",
    "# create spectrogram data. If windowing, calculate FFT at 50% overlap; else use whole recording\n",
    "def process_input(X, Y, windowing):\n",
    "    x_out = []\n",
    "    y_out = []\n",
    "    for i in range(len(X)):\n",
    "        if windowing:            \n",
    "            windows = window_input(X[i])\n",
    "            # featurize and add to output\n",
    "            for w in windows:\n",
    "                a_feat = featurize_input(w, binned)\n",
    "                x_out.append(a_feat)\n",
    "                y_out.append(Y[i])\n",
    "        else:\n",
    "            w = featurize_input(X[i])\n",
    "            x_out.append(w)\n",
    "            y_out.append(Y[i])\n",
    "    return (np.asarray(x_out), np.asarray(y_out))\n",
    "\n",
    "# Add bins as features or domain-specific features\n",
    "def featurize_input(sample):\n",
    "    fv = []\n",
    "    \n",
    "    acc_x = sample[:,6]\n",
    "    acc_y = sample[:,7]\n",
    "    acc_z = sample[:,8]\n",
    "    acc_total = calc_sensor_norm(acc_x, acc_y, acc_z)\n",
    "    gyro_x = sample[:,9]\n",
    "    gyro_y = sample[:,10]\n",
    "    gyro_z = sample[:,11]\n",
    "    gyro_total = calc_sensor_norm(gyro_x, gyro_y, gyro_z)\n",
    "    loc_speed = sample[:,5]\n",
    "    altimeter = sample[:,28]\n",
    "    \n",
    "    fv = []\n",
    "    sample = np.asarray(acc_total)\n",
    "\n",
    "    # extremes\n",
    "#     fv.append(np.min(acc_total))\n",
    "    fv.append(np.max(acc_total))\n",
    "#     fv.append(np.min(gyro_total))\n",
    "    fv.append(np.max(gyro_total))\n",
    "    fv.append(np.max(loc_speed))\n",
    "    fv.append(np.max(altimeter))\n",
    "\n",
    "    # averages\n",
    "    fv.append(np.mean(acc_total))\n",
    "    fv.append(np.mean(gyro_total))\n",
    "    fv.append(np.mean(loc_speed))\n",
    "    \n",
    "    fv.append(np.median(acc_total))\n",
    "    fv.append(np.median(gyro_total))\n",
    "    fv.append(np.median(loc_speed))\n",
    "    \n",
    "\n",
    "    # deviation\n",
    "    fv.append(np.std(acc_total))\n",
    "    fv.append(np.std(gyro_total))\n",
    "    fv.append(np.std(loc_speed))\n",
    "    fv.append(np.max(altimeter))\n",
    "    \n",
    "    # Peak-to-peak\n",
    "    # Rootmean-square\n",
    "    # Correlation between values of accelerometer and gyroscope axes are extracted\n",
    "    \n",
    "    fv = np.asarray(fv)\n",
    "    return fv"
   ]
  },
  {
   "cell_type": "markdown",
   "metadata": {},
   "source": [
    "## Choose if featuring"
   ]
  },
  {
   "cell_type": "code",
   "execution_count": null,
   "metadata": {},
   "outputs": [],
   "source": [
    "windowing = False\n",
    "X_processed, Y_adjusted = process_input(X, Y, windowing)\n",
    "print(X_processed.shape)\n",
    "print(Y_adjusted.shape)"
   ]
  },
  {
   "cell_type": "markdown",
   "metadata": {},
   "source": [
    "## Normalize"
   ]
  },
  {
   "cell_type": "code",
   "execution_count": 186,
   "metadata": {
    "scrolled": true
   },
   "outputs": [
    {
     "data": {
      "image/png": "[encoded data removed]",
      "text/plain": [
       "<Figure size 432x288 with 1 Axes>"
      ]
     },
     "metadata": {
      "needs_background": "light"
     },
     "output_type": "display_data"
    }
   ],
   "source": [
    "scaler = RobustScaler()\n",
    "X = scaler.fit_transform(X_processed) # this normalizes well\n",
    "import seaborn as sns\n",
    "print(X.shape[1])\n",
    "for i in range(X.shape[1]):\n",
    "    sns.kdeplot(X[:,i])"
   ]
  },
  {
   "cell_type": "markdown",
   "metadata": {},
   "source": [
    "## Setting up the variables to run the classifier"
   ]
  },
  {
   "cell_type": "code",
   "execution_count": null,
   "metadata": {},
   "outputs": [],
   "source": [
    "kkn_clf = KNeighborsClassifier()\n",
    "nb_clf = GaussianNB()\n",
    "randf_clf = RandomForestClassifier()\n",
    "mlp_clf = MLPClassifier()\n",
    "logr_clf = LogisticRegression()\n",
    "svm_clf = SVC(gamma='auto', kernel='rbf')\n",
    "\n",
    "# pick one\n",
    "clf = KNeighborsClassifier()"
   ]
  },
  {
   "cell_type": "markdown",
   "metadata": {},
   "source": [
    "## Cross-validation"
   ]
  },
  {
   "cell_type": "code",
   "execution_count": 187,
   "metadata": {},
   "outputs": [],
   "source": [
    "scores = []\n",
    "groups = []\n",
    "\n",
    "if windowing:\n",
    "    for i in range(0, 120):\n",
    "        # groups.append(i)\n",
    "        groups.extend([i,i,i,i])\n",
    "    cv = GroupKFold(n_splits=10)\n",
    "else:\n",
    "    cv = KFold(n_splits=10, random_state=42, shuffle=True)"
   ]
  },
  {
   "cell_type": "markdown",
   "metadata": {},
   "source": [
    "## Calculate model accuracy"
   ]
  },
  {
   "cell_type": "code",
   "execution_count": null,
   "metadata": {},
   "outputs": [],
   "source": [
    "# print(Y_adjusted) # y values, 0-5\n",
    "# print(groups) # group values, 0-119\n",
    "\n",
    "if windowing:\n",
    "    for train_index, test_index in cv.split(X, Y_adjusted, groups):\n",
    "#         print(\"Train Index: \", train_index)\n",
    "#         print(\"Test Index: \", test_index)\n",
    "        X_train, X_test, y_train, y_test = X[train_index], X[test_index], Y_adjusted[train_index], Y_adjusted[test_index]\n",
    "        clf.fit(X_train, y_train)\n",
    "        scores.append(clf.score(X_test, y_test))\n",
    "else:\n",
    "    for train_index, test_index in cv.split(X):\n",
    "#         print(\"Train Index: \", train_index)\n",
    "#         print(\"Test Index: \", test_index)\n",
    "        X_train, X_test, y_train, y_test = X[train_index], X[test_index], Y_adjusted[train_index], Y_adjusted[test_index]\n",
    "        clf.fit(X_train, y_train)\n",
    "        scores.append(clf.score(X_test, y_test))\n",
    "\n",
    "print(\"Mean accuracy:\" + str(np.mean(scores)))"
   ]
  },
  {
   "cell_type": "markdown",
   "metadata": {},
   "source": [
    "## Investigate decision boundaries and spread of data"
   ]
  },
  {
   "cell_type": "code",
   "execution_count": null,
   "metadata": {},
   "outputs": [],
   "source": [
    "#Give index of features that you are interested in looking at\n",
    "# mean, std, median, min, max, \n",
    "sub_features = [0,1]"
   ]
  },
  {
   "cell_type": "code",
   "execution_count": null,
   "metadata": {},
   "outputs": [],
   "source": [
    "h = .2  # step size in the mesh\n",
    "x_min, x_max = X[:, 2].min() - .5, X[:, 2].max() + .5\n",
    "y_min, y_max = X[:, 3].min() - .5, X[:, 3].max() + .5\n",
    "xx, yy = np.meshgrid(np.arange(x_min, x_max, h),\n",
    "                         np.arange(y_min, y_max, h))\n",
    "h = .2  # step size in the mesh\n",
    "x_min, x_max = X[:, sub_features[0]].min() - .5, X[:, sub_features[0]].max() + .5\n",
    "y_min, y_max = X[:, sub_features[1]].min() - .5, X[:, sub_features[1]].max() + .5\n",
    "xx, yy = np.meshgrid(np.arange(x_min, x_max, h),\n",
    "                         np.arange(y_min, y_max, h))\n",
    "\n",
    "cm = plt.cm.RdBu\n",
    "cm_bright = ListedColormap(['#FF0000', '#0000FF'])\n",
    "\n",
    "# Plot the training points\n",
    "clf.fit(X_train[:,sub_features],y_train)\n",
    "scores.append(clf.score(X_test[:,sub_features], y_test))\n",
    "print('Mean Accuracy : ',str(np.mean(scores)))\n",
    "print('This accuracy number is not used for evaluating your solution as it only looks at a subset of features.')"
   ]
  },
  {
   "cell_type": "markdown",
   "metadata": {},
   "source": [
    "## Confusion matrix"
   ]
  },
  {
   "cell_type": "code",
   "execution_count": null,
   "metadata": {},
   "outputs": [],
   "source": [
    "def plot_confusion_matrix(y_true, y_pred, classes,\n",
    "                          normalize=False,\n",
    "                          title=None,\n",
    "                          cmap=plt.cm.Blues):\n",
    "    \"\"\"\n",
    "    This function prints and plots the confusion matrix.\n",
    "    Normalization can be applied by setting `normalize=True`.\n",
    "    \"\"\"\n",
    "    if not title:\n",
    "        if normalize:\n",
    "            title = 'Normalized confusion matrix'\n",
    "        else:\n",
    "            title = 'Confusion matrix, without normalization'\n",
    "\n",
    "    # Compute confusion matrix\n",
    "    cm = confusion_matrix(y_true, y_pred)\n",
    "    # Only use the labels that appear in the data\n",
    "    classes = classes[unique_labels(y_true, y_pred)]\n",
    "    if normalize:\n",
    "        cm = cm.astype('float') / cm.sum(axis=1)[:, np.newaxis]\n",
    "        print(\"Normalized confusion matrix\")\n",
    "    else:\n",
    "        print('Confusion matrix, without normalization')\n",
    "\n",
    "    print(cm)\n",
    "\n",
    "    fig, ax = plt.subplots()\n",
    "    im = ax.imshow(cm, interpolation='nearest', cmap=cmap)\n",
    "    ax.figure.colorbar(im, ax=ax)\n",
    "    # We want to show all ticks...\n",
    "    ax.set(xticks=np.arange(cm.shape[1]),\n",
    "           yticks=np.arange(cm.shape[0]),\n",
    "           # ... and label them with the respective list entries\n",
    "           xticklabels=classes, yticklabels=classes,\n",
    "           title=title,\n",
    "           ylabel='True label',\n",
    "           xlabel='Predicted label')\n",
    "\n",
    "    # Rotate the tick labels and set their alignment.\n",
    "    plt.setp(ax.get_xticklabels(), rotation=45, ha=\"right\",\n",
    "             rotation_mode=\"anchor\")\n",
    "\n",
    "    # Loop over data dimensions and create text annotations.\n",
    "    fmt = '.2f' if normalize else 'd'\n",
    "    thresh = cm.max() / 2.\n",
    "    for i in range(cm.shape[0]):\n",
    "        for j in range(cm.shape[1]):\n",
    "            ax.text(j, i, format(cm[i, j], fmt),\n",
    "                    ha=\"center\", va=\"center\",\n",
    "                    color=\"white\" if cm[i, j] > thresh else \"black\")\n",
    "    fig.tight_layout()\n",
    "    return ax\n",
    "\n",
    "np.set_printoptions(precision=2)"
   ]
  },
  {
   "cell_type": "code",
   "execution_count": null,
   "metadata": {},
   "outputs": [],
   "source": [
    "# https://towardsdatascience.com/understanding-confusion-matrix-a9ad42dcfd62\n",
    "true_y = []\n",
    "pred_y = []\n",
    "\n",
    "if windowing:\n",
    "    for train_index, test_index in cv.split(X, Y_adjusted, groups):\n",
    "        X_train, X_test, y_train, y_test = X[train_index], X[test_index], Y_adjusted[train_index], Y_adjusted[test_index]\n",
    "        \n",
    "        # get predictions\n",
    "        predictions = clf.fit(X_train, y_train).predict(X_test)\n",
    "        pred_y.extend(predictions)\n",
    "        true_y.extend(y_test)\n",
    "else:\n",
    "    for train_index, test_index in cv.split(X):\n",
    "        X_train, X_test, y_train, y_test = X[train_index], X[test_index], Y_adjusted[train_index], Y_adjusted[test_index]\n",
    "        \n",
    "        # get predictions\n",
    "        predictions = clf.fit(X_train, y_train).predict(X_test)\n",
    "        pred_y.extend(predictions)\n",
    "        true_y.extend(y_test)"
   ]
  },
  {
   "cell_type": "code",
   "execution_count": null,
   "metadata": {},
   "outputs": [],
   "source": [
    "# true y vs predicted y\n",
    "class_names = np.asarray([\"Tinder\", \"Instagram\", \"Notes\", \"Facebook\", \"LinkedIn\"])\n",
    "plot_confusion_matrix(true_y, pred_y, classes=class_names, normalize=True,\n",
    "                      title='Confusion matrix %')"
   ]
  },
  {
   "cell_type": "markdown",
   "metadata": {},
   "source": [
    "## Writeup\n",
    "\n",
    "This process was fairly difficult to first get started on. I first started by trying to visualize every class individually, just to get a sense for the data. It then took a little while to figure out the high level process, and what deliverables the assignment called for. Going to office hours was pretty useful and helped jumpstart my process.  \n",
    "\n",
    "Once I was able to sort the code out, it was clear that feature selection would be the single most effective factor in correct classification. Comparing windowing to non-windowing, it's clear that windowing the data is more effective in getting samples that have diverse characteristics. This requires the model to more accruately gauge acoustic qualia in the frequency domain. Unwindowed samples are naturally more obscure and require the computer to make decisions based on a whole array. In terms of practicality, it makes sense that windowing the samples is more ecologically sound and leads to higher performance - it's unlikely that audio samples in the real world can be heard in their entirety, without interruption or other noises. \n",
    "\n",
    "In terms of binning, it seems like binning could be useful in the event that contextual featurization is unintuitive or difficult to discern. Binning seems like a more elementary form of deep-learning, where the features are the data themselves, just more generalized and averaged across the bins. I prefer contextual featurization, since we had the added benefit of reading the provided papers where they provided insights for us on the best features to extract in the frequency and time domains. Had we not had this data, or the ability to research effective features, binning would be a viable tactic.\n",
    "\n",
    "I'm slightly concerned that my data is overfitted, as some of the performance metrics gathered seem too good to be true. However, I know that I correctly separated and grouped my data, so I don't know what other factors would lead to overfitting. I do know that spectral qualities like no. peaks and spectral centroid are powerful features. When I printed them out, it was pretty clear just from those two data points that each class was drastically different, by entire orders of magnitude in some cases. \n",
    "\n",
    "Overall, this was a pretty cool test of our abilities and I'm glad I got the chance to do this on my own data. Thanks for the opportunity! Please roast me and tell me how to make this better, as I'm frankly not entirely confident that I did this according to protocol. I'd love to improve and learn! "
   ]
  },
  {
   "cell_type": "code",
   "execution_count": null,
   "metadata": {},
   "outputs": [],
   "source": []
  }
 ],
 "metadata": {
  "kernelspec": {
   "display_name": "Python 3",
   "language": "python",
   "name": "python3"
  },
  "language_info": {
   "codemirror_mode": {
    "name": "ipython",
    "version": 3
   },
   "file_extension": ".py",
   "mimetype": "text/x-python",
   "name": "python",
   "nbconvert_exporter": "python",
   "pygments_lexer": "ipython3",
   "version": "3.7.3"
  }
 },
 "nbformat": 4,
 "nbformat_minor": 4
}
