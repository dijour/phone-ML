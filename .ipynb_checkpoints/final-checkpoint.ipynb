{
 "cells": [
  {
   "cell_type": "markdown",
   "metadata": {},
   "source": [
    "# Social Media Activity Recognition\n",
    "The goal is to develop a machine learning pipeline to recognize different social media usage using an iPhone’s motion sensors (accelerometer, gyroscope, etc).\n",
    "\n",
    "#### Activities\n",
    "1. Instagram\n",
    "2. Tinder\n",
    "3. Facebook\n",
    "4. LinkedIn\n",
    "5. Notetaking/texting"
   ]
  },
  {
   "cell_type": "markdown",
   "metadata": {},
   "source": [
    "### Importing libraries"
   ]
  },
  {
   "cell_type": "code",
   "execution_count": 1,
   "metadata": {},
   "outputs": [],
   "source": [
    "# essentials\n",
    "import numpy as np # used for handling numbers\n",
    "import scipy as sc\n",
    "import pandas as pd # used for handling the dataset\n",
    "import os # to get csv files of data\n",
    "\n",
    "from sklearn.model_selection import KFold, GroupKFold, cross_val_score, train_test_split\n",
    "from sklearn.impute import SimpleImputer # used for handling missing data\n",
    "from sklearn.preprocessing import LabelEncoder, OneHotEncoder # used for encoding categorical data\n",
    "from sklearn.preprocessing import StandardScaler # used for feature scaling\n",
    "\n",
    "# classifiers \n",
    "from sklearn.ensemble import RandomForestClassifier\n",
    "from sklearn.svm import SVC\n",
    "from sklearn.neural_network import MLPClassifier\n",
    "from sklearn.linear_model import LogisticRegression\n",
    "from sklearn.neighbors import KNeighborsClassifier\n",
    "from sklearn.discriminant_analysis import LinearDiscriminantAnalysis\n",
    "from sklearn.naive_bayes import GaussianNB\n",
    "from sklearn.tree import DecisionTreeClassifier\n",
    "\n",
    "# neural networks\n",
    "import tensorflow as t # for RNN\n",
    "\n",
    "# preprocessing\n",
    "from sklearn.preprocessing import *\n",
    "from sklearn.preprocessing import Normalizer\n",
    "\n",
    "# analysis\n",
    "from sklearn.metrics import confusion_matrix\n",
    "from sklearn.utils.multiclass import unique_labels\n",
    "\n",
    "# plotting\n",
    "import seaborn as sns\n",
    "import matplotlib.pyplot as plt\n",
    "from matplotlib.colors import ListedColormap\n",
    "%matplotlib inline"
   ]
  },
  {
   "cell_type": "markdown",
   "metadata": {},
   "source": [
    "## Loads the sensor data from numpy files.\n",
    "### First, manually filter each CSV to remove any rows where Light > 100, to ensure that the data is only from when phone was in pocket."
   ]
  },
  {
   "cell_type": "code",
   "execution_count": 2,
   "metadata": {},
   "outputs": [],
   "source": [
    "def load_data(base_folder, activity, convert_to_numpy=True):\n",
    "    out = []\n",
    "    file_names = os.listdir('%s/%s' %(base_folder, activity))\n",
    "    for file in file_names:\n",
    "        if (file == '.DS_Store'):\n",
    "            continue\n",
    "        data = pd.read_csv(('%s/%s/'+file) % (base_folder, activity),\n",
    "                            usecols=[\n",
    "                                    'loggingTime(txt)',\n",
    "                                    'loggingSample(N)', # this is easier to filter beginning/end frames\n",
    "                                    'locationLatitude(WGS84)',\n",
    "                                    'locationLongitude(WGS84)',\n",
    "                                    'locationAltitude(m)',\n",
    "                                    'locationSpeed(m/s)',\n",
    "#                                     'locationCourse(¬∞)',\n",
    "#                                     'locationHeadingX(¬µT)',\n",
    "#                                     'locationHeadingY(¬µT)',\n",
    "#                                     'locationHeadingZ(¬µT)',\n",
    "#                                     'locationTrueHeading(¬∞)',\n",
    "#                                     'locationMagneticHeading(¬∞)',\n",
    "                                    'accelerometerAccelerationX(G)',\n",
    "                                    'accelerometerAccelerationY(G)',\n",
    "                                    'accelerometerAccelerationZ(G)',\n",
    "                                    'gyroRotationX(rad/s)',\n",
    "                                    'gyroRotationY(rad/s)',\n",
    "                                    'gyroRotationZ(rad/s)',\n",
    "#                                     'magnetometerX(¬µT)',\n",
    "#                                     'magnetometerY(¬µT)',\n",
    "#                                     'magnetometerZ(¬µT)',\n",
    "                                    'motionYaw(rad)',\n",
    "                                    'motionRoll(rad)',\n",
    "                                    'motionPitch(rad)',\n",
    "                                    'motionRotationRateX(rad/s)',\n",
    "                                    'motionRotationRateY(rad/s)',\n",
    "                                    'motionRotationRateZ(rad/s)',\n",
    "                                    'motionUserAccelerationX(G)',\n",
    "                                    'motionUserAccelerationY(G)',\n",
    "                                    'motionUserAccelerationZ(G)',\n",
    "                                    'motionQuaternionX(R)',\n",
    "                                    'motionQuaternionY(R)',\n",
    "                                    'motionQuaternionZ(R)',\n",
    "                                    'motionQuaternionW(R)',\n",
    "                                    'motionGravityX(G)',\n",
    "                                    'motionGravityY(G)',\n",
    "                                    'motionGravityZ(G)',\n",
    "#                                     'motionMagneticFieldX(¬µT)',\n",
    "#                                     'motionMagneticFieldY(¬µT)',\n",
    "#                                     'motionMagneticFieldZ(¬µT)',\n",
    "                                    'altimeterRelativeAltitude(m)',\n",
    "                                    'altimeterPressure(kPa)',\n",
    "                                    'deviceOrientation(Z)',\n",
    "                                    'avAudioRecorderPeakPower(dB)',\n",
    "                                    'avAudioRecorderAveragePower(dB)']\n",
    "                          )\n",
    "        data = filter_input(data)\n",
    "        \n",
    "        if convert_to_numpy:\n",
    "            out.append(data.to_numpy())\n",
    "        else:\n",
    "            out.append(data)\n",
    "    return out"
   ]
  },
  {
   "cell_type": "markdown",
   "metadata": {},
   "source": [
    "### Pre-processing"
   ]
  },
  {
   "cell_type": "code",
   "execution_count": 3,
   "metadata": {},
   "outputs": [],
   "source": [
    "# This particular cell of code was taken from:\n",
    "# https://github.com/KChen89/Accelerometer-Filtering/blob/master/acc.py\n",
    "#\n",
    "# This does median filtering to reduce noise for acc. and gyro data\n",
    "# Ignore this unless u want to understand implementation of plotting commented out in the next cell\n",
    "import math\n",
    "from scipy.fftpack import fft\n",
    "from scipy import signal\n",
    "from mpl_toolkits.mplot3d import Axes3D\n",
    "\n",
    "# creates a median filter on data\n",
    "def median_filter(data, f_size):\n",
    "    lgth, num_signal=data.shape\n",
    "    f_data=np.zeros([lgth, num_signal])\n",
    "    \n",
    "    for i in range(num_signal):\n",
    "        f_data[:,i]=signal.medfilt(data[:,i], f_size)\n",
    "    return f_data\n",
    "\n",
    "# creates a frequency filter on data\n",
    "def freq_filter(data, f_size, cutoff):\n",
    "    lgth, num_signal=data.shape\n",
    "    f_data=np.zeros([lgth, num_signal])\n",
    "    lpf=signal.firwin(f_size, cutoff, window='hamming')\n",
    "    for i in range(num_signal):\n",
    "        f_data[:,i]=signal.convolve(data[:,i], lpf, mode='same')\n",
    "    return f_data\n",
    "\n",
    "# creates a fast fourier transform plot on data\n",
    "def fft_plot(data, fs, title):\n",
    "    lgth, num_signal=data.shape\n",
    "    fqy=np.zeros([lgth,num_signal])\n",
    "    fqy[:,0]=np.abs(fft(data[:,0]))\n",
    "    fqy[:,1]=np.abs(fft(data[:,1]))\n",
    "    fqy[:,2]=np.abs(fft(data[:,2]))\n",
    "    index=np.arange(int(lgth/2))/(int(lgth/2)/(fs/2))\n",
    "    \n",
    "    fig, ax=plt.subplots()\n",
    "    labels=['x','y','z']\n",
    "    color_map=['r', 'g', 'b']\n",
    "    for i in range(3):\n",
    "        ax.plot(index, fqy[0:int(lgth/2),i], color_map[i], label=labels[i])\n",
    "    ax.set_xlim([0, fs/2])\n",
    "    ax.set_xlabel('Hz')\n",
    "    ax.set_title('Frequency spectrum: '+title) \n",
    "    ax.legend()\n",
    "\n",
    "# plots lines! Wooo\n",
    "def plot_lines(data, fs, title):\n",
    "    num_rows, num_cols=data.shape\n",
    "    if num_cols!=3:\n",
    "        raise ValueError('Not 3D data')\n",
    "        \n",
    "    fig, ax=plt.subplots()\n",
    "    labels=['x','y','z']\n",
    "    color_map=['r', 'g', 'b']\n",
    "    index=np.arange(num_rows)/fs\n",
    "    \n",
    "    for i in range(num_cols):\n",
    "        ax.plot(index, data[:,i], color_map[i], label=labels[i])\n",
    "    ax.set_xlim([0,num_rows/fs])\n",
    "    ax.set_xlabel('Time [sec]')\n",
    "    ax.set_title('Time domain: '+title)\n",
    "    ax.legend()\n",
    "\n",
    "# creates the 3D plot of our accelerometer/gyroscope data\n",
    "def plot3D(data, title):\n",
    "    fig=plt.figure()\n",
    "    ax=fig.add_subplot(111, projection='3d')\n",
    "    ax.plot(xs=data[:,0], ys=data[:,1], zs=data[:,2], zdir='z')\n",
    "    ax.set_title(title)"
   ]
  },
  {
   "cell_type": "markdown",
   "metadata": {},
   "source": [
    "Be careful not to run the plots when loading all the data. Test it by loading just a file or group of files and uncomment after finished exploring."
   ]
  },
  {
   "cell_type": "code",
   "execution_count": 4,
   "metadata": {},
   "outputs": [],
   "source": [
    "# filters accelerometer or gyroscope data\n",
    "cutoff=10\n",
    "fs=512\n",
    "def filter_sensor(data, sensor_type):\n",
    "    if sensor_type == \"gyroscope\":\n",
    "        sensor_data = data.iloc[:,9:12].to_numpy()\n",
    "    else:\n",
    "        sensor_data = data.iloc[:,6:9].to_numpy()\n",
    "    \n",
    "    median_data=median_filter(sensor_data, 155)\n",
    "    lpf_data=freq_filter(sensor_data, 155, cutoff/fs)\n",
    "    comb_data=freq_filter(median_data, 155, cutoff/fs)\n",
    "    \n",
    "    plot_lines(sensor_data, fs, 'Raw data')\n",
    "    fft_plot(sensor_data, fs, 'Raw data')\n",
    "    \n",
    "    plot_lines(median_data, fs, 'median filter')\n",
    "    plot_lines(lpf_data, fs, 'low pass filter')\n",
    "    plot_lines(comb_data, fs, 'median+low pass filter')\n",
    "    \n",
    "    fft_plot(lpf_data, fs, 'low pass filter')\n",
    "    fft_plot(median_data, fs, 'median filter')\n",
    "    fft_plot(comb_data, fs, 'median+low pass filter')\n",
    "    \n",
    "    plot3D(sensor_data, 'raw data')\n",
    "    plot3D(median_data, 'median filter')\n",
    "    plot3D(lpf_data, 'low pass filter')\n",
    "    plot3D(comb_data, 'median+low pass filter')\n",
    "    plt.show()\n",
    "    \n",
    "    if sensor_type == \"gyroscope\":\n",
    "        data.loc[:,'gyroRotationX(rad/s)'] = lpf_data[:,0]\n",
    "        data.loc[:,'gyroRotationY(rad/s)'] = lpf_data[:,1]\n",
    "        data.loc[:,'gyroRotationZ(rad/s)'] = lpf_data[:,2]\n",
    "    else:\n",
    "        data.loc[:,'accelerometerAccelerationX(G)'] = lpf_data[:,0]\n",
    "        data.loc[:,'accelerometerAccelerationY(G)'] = lpf_data[:,1]\n",
    "        data.loc[:,'accelerometerAccelerationZ(G)'] = lpf_data[:,2]\n",
    "    return data\n",
    "\n",
    "X_tinder = load_data(\"samples\", \"tinder\")"
   ]
  },
  {
   "cell_type": "code",
   "execution_count": 5,
   "metadata": {},
   "outputs": [],
   "source": [
    "# Delete the first 2 seconds (60 rows), and last 1 second (30 rows)\n",
    "def filter_input(data):\n",
    "    data = data.iloc[60:-60,]\n",
    "    data = filter_sensor(data, \"accelerometer\")\n",
    "    data = filter_sensor(data, \"gyroscope\")\n",
    "    return data"
   ]
  },
  {
   "cell_type": "markdown",
   "metadata": {},
   "source": [
    "Actually load the data"
   ]
  },
  {
   "cell_type": "code",
   "execution_count": 6,
   "metadata": {},
   "outputs": [
    {
     "name": "stderr",
     "output_type": "stream",
     "text": [
      "/Users/bennetthuffman/.local/lib/python3.7/site-packages/pandas/core/indexing.py:494: SettingWithCopyWarning: \n",
      "A value is trying to be set on a copy of a slice from a DataFrame.\n",
      "Try using .loc[row_indexer,col_indexer] = value instead\n",
      "\n",
      "See the caveats in the documentation: http://pandas.pydata.org/pandas-docs/stable/user_guide/indexing.html#returning-a-view-versus-a-copy\n",
      "  self.obj[item] = s\n"
     ]
    },
    {
     "name": "stdout",
     "output_type": "stream",
     "text": [
      "Total number of X samples: 167\n",
      "Total number of Y samples: 167\n"
     ]
    }
   ],
   "source": [
    "# Load the data for each class\n",
    "X_tinder = load_data(\"data\", \"tinder\")\n",
    "X_instagram = load_data(\"data\", \"instagram\")\n",
    "X_notes = load_data(\"data\", \"notes\")\n",
    "X_facebook = load_data(\"data\", \"facebook\")\n",
    "X_linkedin = load_data(\"data\", \"linkedin\")\n",
    "\n",
    "# Assigning groundtruth conditions to each class\n",
    "Y_tinder = [0] * len(X_tinder) \n",
    "Y_instagram = [1] * len(X_instagram)\n",
    "Y_notes = [2] * len(X_notes)\n",
    "Y_facebook = [3] * len(X_facebook)\n",
    "Y_linkedin = [4] * len(X_linkedin)\n",
    "\n",
    "X = np.concatenate((X_tinder, X_instagram, X_notes, X_facebook, X_linkedin)) # insert standing when done \n",
    "Y = np.concatenate((Y_tinder, Y_instagram, Y_notes, Y_facebook, Y_linkedin)) # insert standing when done\n",
    "print(\"Total number of X samples: \" + str(len(X)))\n",
    "print(\"Total number of Y samples: \" + str(len(Y)))"
   ]
  },
  {
   "cell_type": "code",
   "execution_count": 7,
   "metadata": {},
   "outputs": [
    {
     "name": "stdout",
     "output_type": "stream",
     "text": [
      "facebook\n",
      "count    1936.000000\n",
      "mean        0.434090\n",
      "std         0.025280\n",
      "min         0.379947\n",
      "25%         0.413376\n",
      "50%         0.430085\n",
      "75%         0.450800\n",
      "max         0.495081\n",
      "Name: motionPitch(rad), dtype: float64\n",
      "\n",
      "instagram\n",
      "count    1644.000000\n",
      "mean        0.670083\n",
      "std         0.087409\n",
      "min         0.282256\n",
      "25%         0.647026\n",
      "50%         0.661296\n",
      "75%         0.718457\n",
      "max         1.000684\n",
      "Name: motionPitch(rad), dtype: float64\n",
      "\n",
      "linkedin\n",
      "count    1512.000000\n",
      "mean        0.566341\n",
      "std         0.083944\n",
      "min         0.412432\n",
      "25%         0.501860\n",
      "50%         0.566077\n",
      "75%         0.617322\n",
      "max         1.013837\n",
      "Name: motionPitch(rad), dtype: float64\n",
      "\n",
      "notes\n",
      "count    1654.000000\n",
      "mean        0.819122\n",
      "std         0.057150\n",
      "min         0.619680\n",
      "25%         0.780668\n",
      "50%         0.828112\n",
      "75%         0.855144\n",
      "max         0.971548\n",
      "Name: motionPitch(rad), dtype: float64\n",
      "\n",
      "tinder\n",
      "count    1901.000000\n",
      "mean        0.285155\n",
      "std         0.048023\n",
      "min         0.150253\n",
      "25%         0.250699\n",
      "50%         0.286083\n",
      "75%         0.321363\n",
      "max         0.432564\n",
      "Name: motionPitch(rad), dtype: float64\n",
      "\n"
     ]
    }
   ],
   "source": [
    "column_name = 'motionPitch(rad)' # replace me with other sensors!\n",
    "activities = ['facebook', 'instagram', 'linkedin', 'notes', 'tinder']\n",
    "\n",
    "for a in activities:\n",
    "    curr_data = load_data('samples', a, False)[0]\n",
    "    print(a)\n",
    "    print(curr_data[column_name].describe())\n",
    "    print('')\n",
    "    \n",
    "#     'accelerometerAccelerationX(G)',\n",
    "#     'accelerometerAccelerationY(G)',\n",
    "#     'accelerometerAccelerationZ(G)',\n",
    "#     'gyroRotationX(rad/s)',\n",
    "#     'gyroRotationY(rad/s)',\n",
    "#     'gyroRotationZ(rad/s)',\n",
    "#     'motionYaw(rad)',\n",
    "#     'motionRoll(rad)',\n",
    "#     'motionPitch(rad)',\n",
    "#     'motionRotationRateX(rad/s)',\n",
    "#     'motionRotationRateY(rad/s)',\n",
    "#     'motionRotationRateZ(rad/s)',\n",
    "#     'motionUserAccelerationX(G)',\n",
    "#     'motionUserAccelerationY(G)',\n",
    "#     'motionUserAccelerationZ(G)',\n",
    "#     'motionQuaternionX(R)',\n",
    "#     'motionQuaternionY(R)',\n",
    "#     'motionQuaternionZ(R)',\n",
    "#     'motionQuaternionW(R)',\n",
    "#     'motionGravityX(G)',\n",
    "#     'motionGravityY(G)',\n",
    "#     'motionGravityZ(G)',"
   ]
  },
  {
   "cell_type": "markdown",
   "metadata": {},
   "source": [
    "## Featurization"
   ]
  },
  {
   "cell_type": "code",
   "execution_count": 8,
   "metadata": {},
   "outputs": [],
   "source": [
    "# calculate the norm/magnitude of a 3-axis sensor\n",
    "def calc_sensor_norm(sensor_x, sensor_y, sensor_z):\n",
    "    sensor_total = []\n",
    "    for i in range(len(sensor_x)):\n",
    "        sensor_total.append((sensor_x[i]**2 + sensor_y[i]**2 + sensor_z[i]**2)**5)\n",
    "    return sensor_total\n",
    "\n",
    "# window input data by seconds and overlap\n",
    "def window_input(input_data, seconds=1, overlap=0.5, hz=30):\n",
    "    data_len = len(input_data)\n",
    "    window_len = seconds*hz\n",
    "    overlap_len = int(window_len * (1-overlap))\n",
    "    frame_count = 0\n",
    "    windows, next_win = [], []\n",
    "    # create windows if fits; up to overlap_len - 1 frames removed from end\n",
    "    for i in range(data_len):\n",
    "        next_win.append(input_data[i])\n",
    "        frame_count += 1\n",
    "        if (frame_count % overlap_len == 0) and (len(next_win) == window_len):\n",
    "            windows.append(next_win.copy())\n",
    "            del next_win[:overlap_len]\n",
    "    windows = np.asarray(windows)\n",
    "    return np.asarray(windows)\n",
    "\n",
    "# create spectrogram data. If windowing, calculate FFT at 50% overlap; else use whole recording\n",
    "def process_input(X, Y, windowing):\n",
    "    x_out = []\n",
    "    y_out = []\n",
    "    groups = list([])\n",
    "    for i in range(len(X)):\n",
    "        if windowing:\n",
    "            windows = window_input(X[i], 2, 0.5, 30)\n",
    "            # featurize and add to output\n",
    "            for w in windows:\n",
    "                groups.append(i)\n",
    "                a_feat = featurize_input(w)\n",
    "                x_out.append(a_feat)\n",
    "                y_out.append(Y[i])\n",
    "        else:\n",
    "            groups.append(i)\n",
    "            w = featurize_input(X[i])\n",
    "            x_out.append(w)\n",
    "            y_out.append(Y[i])\n",
    "    return (np.asarray(x_out), np.asarray(y_out), np.asarray(groups))\n",
    "\n",
    "# Add bins as features or domain-specific features\n",
    "def featurize_input(sample):\n",
    "    fv = []\n",
    "    acc_x = sample[:,6]\n",
    "    acc_y = sample[:,7]\n",
    "    acc_z = sample[:,8]\n",
    "    acc_total = calc_sensor_norm(acc_x, acc_y, acc_z)\n",
    "    gyro_x = sample[:,9]\n",
    "    gyro_y = sample[:,10]\n",
    "    gyro_z = sample[:,11]\n",
    "    gyro_total = calc_sensor_norm(gyro_x, gyro_y, gyro_z)\n",
    "    loc_speed = sample[:,5]\n",
    "    altimeter = sample[:,28]\n",
    "    \n",
    "    motionYaw = sample[:,12]\n",
    "    fv.append(np.max(motionYaw))\n",
    "    fv.append(np.mean(motionYaw))\n",
    "    fv.append(np.std(motionYaw))\n",
    "    motionRoll = sample[:,13]\n",
    "    fv.append(np.max(motionRoll))\n",
    "    fv.append(np.mean(motionRoll))\n",
    "    fv.append(np.std(motionRoll))\n",
    "    motionPitch = sample[:,14]\n",
    "    fv.append(np.min(motionPitch))\n",
    "    motionRotationRateX = sample[:,15]\n",
    "    motionRotationRateY = sample[:,16]\n",
    "    motionRotationRateZ = sample[:,17]\n",
    "    \n",
    "#     'motionYaw(rad)',\n",
    "#     'motionRoll(rad)',\n",
    "#     'motionPitch(rad)',\n",
    "#     'motionRotationRateX(rad/s)',\n",
    "#     'motionRotationRateY(rad/s)',\n",
    "#     'motionRotationRateZ(rad/s)',\n",
    "#     'motionUserAccelerationX(G)',\n",
    "#     'motionUserAccelerationY(G)',\n",
    "#     'motionUserAccelerationZ(G)',\n",
    "    \n",
    "    fv = []\n",
    "    sample = np.asarray(acc_total)\n",
    "\n",
    "    # extremes\n",
    "    fv.append(np.max(acc_total))\n",
    "    fv.append(np.max(gyro_total))\n",
    "    fv.append(np.max(loc_speed))\n",
    "    fv.append(np.max(altimeter))\n",
    "    \n",
    "    # I noticed this helps w/ differentiating climbing\n",
    "    fv.append(np.max(gyro_x))\n",
    "    fv.append(np.max(gyro_y))\n",
    "    fv.append(np.max(gyro_z))\n",
    "\n",
    "    # averages\n",
    "    fv.append(np.mean(acc_total))\n",
    "    fv.append(np.mean(gyro_total))\n",
    "    fv.append(np.mean(loc_speed))\n",
    "    fv.append(np.mean(acc_x))\n",
    "    fv.append(np.mean(acc_y))\n",
    "    fv.append(np.mean(acc_z))\n",
    "    fv.append(np.mean(gyro_x))\n",
    "    fv.append(np.mean(gyro_y))\n",
    "    fv.append(np.mean(gyro_z))\n",
    "    \n",
    "    fv.append(np.median(acc_total))\n",
    "    fv.append(np.median(gyro_total))\n",
    "    fv.append(np.median(loc_speed))\n",
    "    \n",
    "\n",
    "    # deviation\n",
    "    fv.append(np.std(acc_total))\n",
    "    fv.append(np.std(gyro_total))\n",
    "    fv.append(np.std(loc_speed))\n",
    "    fv.append(np.std(altimeter))\n",
    "    \n",
    "    # Peak-to-peak\n",
    "    # Rootmean-square\n",
    "    # Correlation between values of accelerometer and gyroscope axes are extracted\n",
    "    \n",
    "    fv = np.asarray(fv)\n",
    "    return fv"
   ]
  },
  {
   "cell_type": "markdown",
   "metadata": {},
   "source": [
    "## Choose if featuring"
   ]
  },
  {
   "cell_type": "code",
   "execution_count": 9,
   "metadata": {},
   "outputs": [
    {
     "name": "stdout",
     "output_type": "stream",
     "text": [
      "(11394, 23)\n",
      "(11394,)\n"
     ]
    }
   ],
   "source": [
    "windowing = True\n",
    "X_processed, Y_adjusted, groups = process_input(X, Y, windowing)\n",
    "print(X_processed.shape)\n",
    "print(Y_adjusted.shape)"
   ]
  },
  {
   "cell_type": "markdown",
   "metadata": {},
   "source": [
    "## Normalize"
   ]
  },
  {
   "cell_type": "code",
   "execution_count": 10,
   "metadata": {
    "scrolled": true
   },
   "outputs": [
    {
     "name": "stdout",
     "output_type": "stream",
     "text": [
      "23\n"
     ]
    },
    {
     "data": {
      "image/png": "[encoded data removed]",
      "text/plain": [
       "<Figure size 432x288 with 1 Axes>"
      ]
     },
     "metadata": {
      "needs_background": "light"
     },
     "output_type": "display_data"
    }
   ],
   "source": [
    "scaler = RobustScaler()\n",
    "X = scaler.fit_transform(X_processed) # this normalizes well\n",
    "import seaborn as sns\n",
    "print(X.shape[1])\n",
    "for i in range(X.shape[1]):\n",
    "    sns.kdeplot(X[:,i])"
   ]
  },
  {
   "cell_type": "markdown",
   "metadata": {},
   "source": [
    "## Setting up the variables to run the classifier"
   ]
  },
  {
   "cell_type": "code",
   "execution_count": 11,
   "metadata": {},
   "outputs": [],
   "source": [
    "kkn_clf = KNeighborsClassifier()\n",
    "nb_clf = GaussianNB()\n",
    "randf_clf = RandomForestClassifier()\n",
    "mlp_clf = MLPClassifier()\n",
    "logr_clf = LogisticRegression()\n",
    "svm_clf = SVC(gamma='auto', kernel='rbf')\n",
    "\n",
    "# pick one\n",
    "# clf = RandomForestClassifier(warm_start=True)\n",
    "clf = RandomForestClassifier(n_estimators=100)"
   ]
  },
  {
   "cell_type": "markdown",
   "metadata": {},
   "source": [
    "## Cross-validation"
   ]
  },
  {
   "cell_type": "code",
   "execution_count": 12,
   "metadata": {},
   "outputs": [],
   "source": [
    "scores = []\n",
    "\n",
    "if windowing:\n",
    "    cv = GroupKFold(n_splits=10)\n",
    "else:\n",
    "    cv = KFold(n_splits=10, random_state=42, shuffle=True)"
   ]
  },
  {
   "cell_type": "markdown",
   "metadata": {},
   "source": [
    "## Calculate model accuracy"
   ]
  },
  {
   "cell_type": "code",
   "execution_count": 13,
   "metadata": {},
   "outputs": [
    {
     "name": "stdout",
     "output_type": "stream",
     "text": [
      "Mean accuracy:0.8057883566661698\n"
     ]
    }
   ],
   "source": [
    "# print(Y_adjusted) # y values, 0-5\n",
    "# print(groups) # group values, 0-119\n",
    "\n",
    "if windowing:\n",
    "    for train_index, test_index in cv.split(X, Y_adjusted, groups):\n",
    "#         print(\"Train Index: \", train_index)\n",
    "#         print(\"Test Index: \", test_index)\n",
    "        X_train, X_test, y_train, y_test = X[train_index], X[test_index], Y_adjusted[train_index], Y_adjusted[test_index]\n",
    "        clf.fit(X_train, y_train)\n",
    "        scores.append(clf.score(X_test, y_test))\n",
    "else:\n",
    "    for train_index, test_index in cv.split(X):\n",
    "#         print(\"Train Index: \", train_index)\n",
    "#         print(\"Test Index: \", test_index)\n",
    "        X_train, X_test, y_train, y_test = X[train_index], X[test_index], Y_adjusted[train_index], Y_adjusted[test_index]\n",
    "        clf.fit(X_train, y_train)\n",
    "        scores.append(clf.score(X_test, y_test))\n",
    "\n",
    "print(\"Mean accuracy:\" + str(np.mean(scores)))"
   ]
  },
  {
   "cell_type": "markdown",
   "metadata": {},
   "source": [
    "## Investigate decision boundaries and spread of data"
   ]
  },
  {
   "cell_type": "code",
   "execution_count": 14,
   "metadata": {},
   "outputs": [],
   "source": [
    "#Give index of features that you are interested in looking at\n",
    "# mean, std, median, min, max, \n",
    "sub_features = [0,1]"
   ]
  },
  {
   "cell_type": "code",
   "execution_count": 15,
   "metadata": {},
   "outputs": [],
   "source": [
    "# h = .2  # step size in the mesh\n",
    "# x_min, x_max = X[:, 2].min() - .5, X[:, 2].max() + .5\n",
    "# y_min, y_max = X[:, 3].min() - .5, X[:, 3].max() + .5\n",
    "# xx, yy = np.meshgrid(np.arange(x_min, x_max, h),\n",
    "#                          np.arange(y_min, y_max, h))\n",
    "# h = .2  # step size in the mesh\n",
    "# x_min, x_max = X[:, sub_features[0]].min() - .5, X[:, sub_features[0]].max() + .5\n",
    "# y_min, y_max = X[:, sub_features[1]].min() - .5, X[:, sub_features[1]].max() + .5\n",
    "# xx, yy = np.meshgrid(np.arange(x_min, x_max, h),\n",
    "#                          np.arange(y_min, y_max, h))\n",
    "\n",
    "# cm = plt.cm.RdBu\n",
    "# cm_bright = ListedColormap(['#FF0000', '#0000FF'])\n",
    "\n",
    "# # Plot the training points\n",
    "# clf.fit(X_train[:,sub_features],y_train)\n",
    "# scores.append(clf.score(X_test[:,sub_features], y_test))\n",
    "# print('Mean Accuracy : ',str(np.mean(scores)))\n",
    "# print('This accuracy number is not used for evaluating your solution as it only looks at a subset of features.')"
   ]
  },
  {
   "cell_type": "markdown",
   "metadata": {},
   "source": [
    "## Confusion matrix"
   ]
  },
  {
   "cell_type": "code",
   "execution_count": 16,
   "metadata": {},
   "outputs": [],
   "source": [
    "def plot_confusion_matrix(y_true, y_pred, classes,\n",
    "                          normalize=False,\n",
    "                          title=None,\n",
    "                          cmap=plt.cm.Blues):\n",
    "    \"\"\"\n",
    "    This function prints and plots the confusion matrix.\n",
    "    Normalization can be applied by setting `normalize=True`.\n",
    "    \"\"\"\n",
    "    if not title:\n",
    "        if normalize:\n",
    "            title = 'Normalized confusion matrix'\n",
    "        else:\n",
    "            title = 'Confusion matrix, without normalization'\n",
    "\n",
    "    # Compute confusion matrix\n",
    "    cm = confusion_matrix(y_true, y_pred)\n",
    "    # Only use the labels that appear in the data\n",
    "    classes = classes[unique_labels(y_true, y_pred)]\n",
    "    if normalize:\n",
    "        cm = cm.astype('float') / cm.sum(axis=1)[:, np.newaxis]\n",
    "        print(\"Normalized confusion matrix\")\n",
    "    else:\n",
    "        print('Confusion matrix, without normalization')\n",
    "\n",
    "    print(cm)\n",
    "\n",
    "    fig, ax = plt.subplots()\n",
    "    im = ax.imshow(cm, interpolation='nearest', cmap=cmap)\n",
    "    ax.figure.colorbar(im, ax=ax)\n",
    "    # We want to show all ticks...\n",
    "    ax.set(xticks=np.arange(cm.shape[1]),\n",
    "           yticks=np.arange(cm.shape[0]),\n",
    "           # ... and label them with the respective list entries\n",
    "           xticklabels=classes, yticklabels=classes,\n",
    "           title=title,\n",
    "           ylabel='True label',\n",
    "           xlabel='Predicted label')\n",
    "\n",
    "    # Rotate the tick labels and set their alignment.\n",
    "    plt.setp(ax.get_xticklabels(), rotation=45, ha=\"right\",\n",
    "             rotation_mode=\"anchor\")\n",
    "\n",
    "    # Loop over data dimensions and create text annotations.\n",
    "    fmt = '.2f' if normalize else 'd'\n",
    "    thresh = cm.max() / 2.\n",
    "    for i in range(cm.shape[0]):\n",
    "        for j in range(cm.shape[1]):\n",
    "            ax.text(j, i, format(cm[i, j], fmt),\n",
    "                    ha=\"center\", va=\"center\",\n",
    "                    color=\"white\" if cm[i, j] > thresh else \"black\")\n",
    "    fig.tight_layout()\n",
    "    return ax\n",
    "\n",
    "np.set_printoptions(precision=2)"
   ]
  },
  {
   "cell_type": "code",
   "execution_count": 17,
   "metadata": {},
   "outputs": [],
   "source": [
    "# https://towardsdatascience.com/understanding-confusion-matrix-a9ad42dcfd62\n",
    "true_y = []\n",
    "pred_y = []\n",
    "\n",
    "if windowing:\n",
    "    for train_index, test_index in cv.split(X, Y_adjusted, groups):\n",
    "        X_train, X_test, y_train, y_test = X[train_index], X[test_index], Y_adjusted[train_index], Y_adjusted[test_index]\n",
    "        \n",
    "        # get predictions\n",
    "        predictions = clf.fit(X_train, y_train).predict(X_test)\n",
    "        pred_y.extend(predictions)\n",
    "        true_y.extend(y_test)\n",
    "else:\n",
    "    for train_index, test_index in cv.split(X):\n",
    "        X_train, X_test, y_train, y_test = X[train_index], X[test_index], Y_adjusted[train_index], Y_adjusted[test_index]\n",
    "        \n",
    "        # get predictions\n",
    "        predictions = clf.fit(X_train, y_train).predict(X_test)\n",
    "        pred_y.extend(predictions)\n",
    "        true_y.extend(y_test)"
   ]
  },
  {
   "cell_type": "code",
   "execution_count": 18,
   "metadata": {},
   "outputs": [
    {
     "name": "stdout",
     "output_type": "stream",
     "text": [
      "Normalized confusion matrix\n",
      "[[0.82 0.02 0.05 0.09 0.03]\n",
      " [0.08 0.78 0.04 0.03 0.08]\n",
      " [0.07 0.08 0.76 0.07 0.02]\n",
      " [0.06 0.03 0.02 0.85 0.04]\n",
      " [0.05 0.05 0.01 0.06 0.83]]\n"
     ]
    },
    {
     "data": {
      "text/plain": [
       "<matplotlib.axes._subplots.AxesSubplot at 0x7fccc31ba6d8>"
      ]
     },
     "execution_count": 18,
     "metadata": {},
     "output_type": "execute_result"
    },
    {
     "data": {
      "image/png": "[encoded data removed]",
      "text/plain": [
       "<Figure size 432x288 with 2 Axes>"
      ]
     },
     "metadata": {
      "needs_background": "light"
     },
     "output_type": "display_data"
    }
   ],
   "source": [
    "# true y vs predicted y\n",
    "class_names = np.asarray([\"Tinder\", \"Instagram\", \"Notes\", \"Facebook\", \"LinkedIn\"])\n",
    "plot_confusion_matrix(true_y, pred_y, classes=class_names, normalize=True,\n",
    "                      title='Confusion matrix %')"
   ]
  },
  {
   "cell_type": "markdown",
   "metadata": {},
   "source": [
    "## Writeup\n",
    "### Data collection\n",
    "Data was recorded all using an iPhone X after facing problems with consistent rates between both Android and iOS recordings. Data was recorded with the participation of over 12 individuals over the course of one month using each platform on iOS who have experience using each platform to account for variability. All participants are Carnegie Mellon University undergraduate students. However, most data was generated by two individuals due to time constraints and recruitment over holidays. We tested on five different social media platforms: \n",
    "\n",
    "1. Instagram\n",
    "2. Tinder\n",
    "3. Facebook\n",
    "4. LinkedIn\n",
    "5. Notetaking/texting\n",
    "\n",
    "Samples for activity on each social media platform are approximately between 30-60 seconds long. Subjects were told to use the platforms as they normally would, and were instructed when to start and stop recordings. It is worth noting no data was collected while traveling.\n",
    "\n",
    "### Pre-processing\n",
    "Recordings were sampled at 30Hz, with sensor data including location, acceleromter, gyroscope, magnetometer, motion and rotation, and altimeter amongst other miscellaneous data. I removed unnecessary metadata from the dataset. Generally speaking, there was a brief switchover time of 1-2 seconds when users flipped between the sensor app and  social media platform. We removed two seconds from the beginning and end of each recording to ensure all data collected was exclusively the activity taking place.\n",
    "\n",
    "We tried multiple methods to pre-process the data, including a low-pass filter, median filter, and combination of both to reduce the noise. There was no significant difference in accuracy with the combination of both, and the low-pass filter performed better. Windowing was similar. Activity recognition was siginficantly better when windowing in general, but window sizes of 1s, 1.5s, 2s, 2.5s, 3s, 3.5s, and 4s with 50% overlap showed no significant differences. Because user actions on each platform likely don't change much, this was a somewhat effective way to increase the amount of data available. Windowing is also much better for implementing our program in real-time.\n",
    "\n",
    "### Feature extraction\n",
    "We started by extracting typical features after exploratory data anlysis and plotting of the different social media platforms. The common features include extremes, averages, and variance such as standard deviation. Calculated features include the norm of 3-axis sensors, rootmean-square, peak-to-peak, and correlation between accelerometer and gyroscope data.\n",
    "\n",
    "Domain-specific features for accelerometer and gyroscope data:\n",
    "1. Extremes (max, min)\n",
    "2. Averages (mean, median)\n",
    "3. Variance (st. deviation, rootmean-square, peak-to-peak)\n",
    "4. Correlation (acc. & gyro)\n",
    "5. ???\n",
    "6. Profit\n",
    "\n",
    "### Feature selection\n",
    "Because of finding success in activity recognition fo A4, we used \n",
    "I first attempted to run through the data using extremes, averages, and variance on only the accelerometer and gyroscope data using a SVM classifier with a rbf kernel. I surprisingly received good results, but the confusion matrix made clear walking was often confused with climbing up or down. I hand-picked features empirically by examining these basic statistics and found the location speed and altimeter to help differentiate the classes (for somewhat obvious reasons!). After receiving about 96% accuracy, I tested the data with windowing and saw climbing up and down were often confounded. I addressed this by selecting the accelerometer/gyroscope features on X, Y, and Z instead of just their norms. Other features might further differentiate the two. I saw decent improvements in the cofnusion matrix.\n",
    "\n",
    "\n",
    "### Classification\n",
    "Because the SVM classifier performed well and many features were easily extractable and understandable, I decided not to use deep learning despite CNNs appearing to be common in activity recognition tasks. I initially had 92% accuracy with the SVM on just accelerometer and gyroscope data. I then proceeded to test other classifiers identified in research papers for this task, including MLP and kNN. K-Nearest Neighbors performed extremely well, bumping accuracy from 92% to 95%. After using windowing, accuracy went down significantly. I then tested with a decision tree classifier and random forest. These algorithms significantly improved results, with Random Forest resulting in over 97% accuracy.\n",
    "\n",
    "Because it had the ideal solution of windowing and 97% accuracy, I settled with this classifier.\n",
    "\n",
    "### Conclusion\n",
    "Activity recognition can always be improved. Given so many sensor inputs for this task, it was difficult figuring out which direction to choose, especially since this kind of ML task still has room for improvement. Overall, I'm fairly happy with the results I was able to get with 97% percent accuracy using 3 second windowing, summary features, and a Random Forest classifier, tested with a 10-fold cross validation. Moving forward I would be interested in engineering more features and perhaps testing a CNN (for fun :))."
   ]
  },
  {
   "cell_type": "code",
   "execution_count": null,
   "metadata": {},
   "outputs": [],
   "source": []
  }
 ],
 "metadata": {
  "kernelspec": {
   "display_name": "Python 3",
   "language": "python",
   "name": "python3"
  },
  "language_info": {
   "codemirror_mode": {
    "name": "ipython",
    "version": 3
   },
   "file_extension": ".py",
   "mimetype": "text/x-python",
   "name": "python",
   "nbconvert_exporter": "python",
   "pygments_lexer": "ipython3",
   "version": "3.7.3"
  }
 },
 "nbformat": 4,
 "nbformat_minor": 4
}
